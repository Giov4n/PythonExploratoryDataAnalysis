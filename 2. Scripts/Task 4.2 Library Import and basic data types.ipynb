{
 "cells": [
  {
   "cell_type": "markdown",
   "id": "8e5f13cf",
   "metadata": {},
   "source": [
    "**Table of contents**<a id='toc0_'></a>    \n",
    "- 1. [Importing Libraries](#toc1_)    \n",
    "- 2. [Data Types](#toc2_)    \n",
    "\n",
    "<!-- vscode-jupyter-toc-config\n",
    "\tnumbering=true\n",
    "\tanchor=true\n",
    "\tflat=false\n",
    "\tminLevel=1\n",
    "\tmaxLevel=6\n",
    "\t/vscode-jupyter-toc-config -->\n",
    "<!-- THIS CELL WILL BE REPLACED ON TOC UPDATE. DO NOT WRITE YOUR TEXT IN THIS CELL -->"
   ]
  },
  {
   "cell_type": "markdown",
   "id": "4753e9ce-b559-4124-ae10-9d3cc5911698",
   "metadata": {},
   "source": [
    "# 1. <a id='toc1_'></a>[Importing Libraries](#toc0_)"
   ]
  },
  {
   "cell_type": "code",
   "execution_count": 2,
   "id": "146deffa-1d3c-488f-be43-7ba7b6a1dfb6",
   "metadata": {},
   "outputs": [],
   "source": [
    "# Import libraries\n",
    "import pandas as pd\n",
    "import numpy as np\n",
    "import os"
   ]
  },
  {
   "cell_type": "markdown",
   "id": "a566e11e-90cc-4cab-9229-fb4357f76455",
   "metadata": {},
   "source": [
    "# 2. <a id='toc2_'></a>[Data Types](#toc0_)"
   ]
  },
  {
   "cell_type": "code",
   "execution_count": 3,
   "id": "1c85b834-cfbc-49c1-baae-fada44c3e639",
   "metadata": {},
   "outputs": [],
   "source": [
    "a = 73"
   ]
  },
  {
   "cell_type": "code",
   "execution_count": 4,
   "id": "a9c00480-efce-4b0e-aa0a-ea5f6a6a5d2f",
   "metadata": {},
   "outputs": [],
   "source": [
    "b = 37"
   ]
  },
  {
   "cell_type": "code",
   "execution_count": 5,
   "id": "61e2c3d8-5ab5-434c-ae19-0e3731797a3b",
   "metadata": {},
   "outputs": [
    {
     "data": {
      "text/plain": [
       "100"
      ]
     },
     "execution_count": 5,
     "metadata": {},
     "output_type": "execute_result"
    }
   ],
   "source": [
    "a + b - 10"
   ]
  },
  {
   "cell_type": "code",
   "execution_count": 6,
   "id": "e83a0a64-c1dd-46d3-9ea0-10503b9e43b2",
   "metadata": {},
   "outputs": [
    {
     "name": "stdout",
     "output_type": "stream",
     "text": [
      "100\n"
     ]
    }
   ],
   "source": [
    "print(a + 27)"
   ]
  },
  {
   "cell_type": "code",
   "execution_count": 7,
   "id": "c9162cc3-4843-4813-8385-99218e5d0f9b",
   "metadata": {},
   "outputs": [],
   "source": [
    "c = 3"
   ]
  },
  {
   "cell_type": "code",
   "execution_count": 8,
   "id": "bf2e7193-36b4-484f-96d9-39651540e176",
   "metadata": {},
   "outputs": [],
   "source": [
    "d = 11"
   ]
  },
  {
   "cell_type": "code",
   "execution_count": 9,
   "id": "5938bb19-9a07-485d-ad6b-af44e0adabfa",
   "metadata": {},
   "outputs": [
    {
     "data": {
      "text/plain": [
       "100"
      ]
     },
     "execution_count": 9,
     "metadata": {},
     "output_type": "execute_result"
    }
   ],
   "source": [
    "b * c - d"
   ]
  },
  {
   "cell_type": "code",
   "execution_count": 10,
   "id": "09e61fc8-c7f3-4f22-8ed7-e938794805be",
   "metadata": {},
   "outputs": [],
   "source": [
    "e = 59.645"
   ]
  },
  {
   "cell_type": "code",
   "execution_count": 11,
   "id": "79f4629c-8027-4d6c-8689-eb295d234c93",
   "metadata": {},
   "outputs": [],
   "source": [
    "f = float(5.5)"
   ]
  },
  {
   "cell_type": "code",
   "execution_count": 12,
   "id": "d0ab9786-7fa0-4ae0-bb6a-e63ec89d317d",
   "metadata": {},
   "outputs": [
    {
     "data": {
      "text/plain": [
       "10.844545454545456"
      ]
     },
     "execution_count": 12,
     "metadata": {},
     "output_type": "execute_result"
    }
   ],
   "source": [
    "e/f"
   ]
  },
  {
   "cell_type": "code",
   "execution_count": 14,
   "id": "d6ea5a8d-1079-48c6-9976-aabef4b52b37",
   "metadata": {},
   "outputs": [],
   "source": [
    "g = 'Ent'"
   ]
  },
  {
   "cell_type": "code",
   "execution_count": 15,
   "id": "500d7dcc-892e-4f74-bd6b-169e25ad5d36",
   "metadata": {},
   "outputs": [],
   "source": [
    "h = 'ast'"
   ]
  },
  {
   "cell_type": "code",
   "execution_count": 17,
   "id": "1238474d-92e9-435a-a788-458456db5696",
   "metadata": {},
   "outputs": [
    {
     "data": {
      "text/plain": [
       "'Enthuhsiast'"
      ]
     },
     "execution_count": 17,
     "metadata": {},
     "output_type": "execute_result"
    }
   ],
   "source": [
    "g+'huhsi'+h"
   ]
  },
  {
   "cell_type": "code",
   "execution_count": 21,
   "id": "e51fb17b-54f8-467e-81be-cb3d2b5bb115",
   "metadata": {},
   "outputs": [],
   "source": [
    "i = 'Python seems like a fun programming language. '"
   ]
  },
  {
   "cell_type": "code",
   "execution_count": 19,
   "id": "3b9913ea-b7eb-47c1-b21f-26a7fc375d62",
   "metadata": {},
   "outputs": [],
   "source": [
    "j = 'I may soon join the ranks of Python '"
   ]
  },
  {
   "cell_type": "code",
   "execution_count": 22,
   "id": "9f44d424-d287-4d5c-a546-74a5146fad8b",
   "metadata": {},
   "outputs": [
    {
     "data": {
      "text/plain": [
       "'Python seems like a fun programming language. I may soon join the ranks of Python Enthuhsiasts.'"
      ]
     },
     "execution_count": 22,
     "metadata": {},
     "output_type": "execute_result"
    }
   ],
   "source": [
    "i + j + g + 'huhsi' + h + 's.'"
   ]
  },
  {
   "cell_type": "code",
   "execution_count": 28,
   "id": "25a5ed77-12af-41cf-bf77-8206d7e4980b",
   "metadata": {},
   "outputs": [
    {
     "data": {
      "text/plain": [
       "'3333333333333333333333333333333333333333333333333333333333333333333333333333333333333333333333333333'"
      ]
     },
     "execution_count": 28,
     "metadata": {},
     "output_type": "execute_result"
    }
   ],
   "source": [
    "str(c) * 100"
   ]
  }
 ],
 "metadata": {
  "kernelspec": {
   "display_name": "base",
   "language": "python",
   "name": "python3"
  },
  "language_info": {
   "codemirror_mode": {
    "name": "ipython",
    "version": 3
   },
   "file_extension": ".py",
   "mimetype": "text/x-python",
   "name": "python",
   "nbconvert_exporter": "python",
   "pygments_lexer": "ipython3",
   "version": "3.13.5"
  }
 },
 "nbformat": 4,
 "nbformat_minor": 5
}
